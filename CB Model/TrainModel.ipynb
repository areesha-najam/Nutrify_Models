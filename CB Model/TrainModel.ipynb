{
 "cells": [
  {
   "cell_type": "code",
   "execution_count": 2,
   "id": "15d77f44",
   "metadata": {},
   "outputs": [],
   "source": [
    "# Importing necessary libraries here\n",
    "import sys\n",
    "import pandas as pd\n",
    "import numpy as np\n",
    "import nltk\n",
    "from nltk.corpus import stopwords\n",
    "from gensim.models import Word2Vec\n",
    "from gensim.models.phrases import Phrases, Phraser\n",
    "from gensim.models import KeyedVectors\n",
    "from gensim.models.word2vec import Word2Vec\n",
    "from gensim.models.doc2vec import Doc2Vec, TaggedDocument\n",
    "from nltk.tokenize import word_tokenize\n",
    "\n",
    "import warnings \n",
    "warnings.filterwarnings('ignore') # no warnings"
   ]
  },
  {
   "cell_type": "code",
   "execution_count": 3,
   "id": "ec8e388e",
   "metadata": {},
   "outputs": [],
   "source": [
    "# Reading the data\n",
    "df = pd.read_csv(\"comma_separated_ing.csv\")"
   ]
  },
  {
   "cell_type": "code",
   "execution_count": 4,
   "id": "6b59b9da",
   "metadata": {},
   "outputs": [
    {
     "data": {
      "text/html": [
       "<div>\n",
       "<style scoped>\n",
       "    .dataframe tbody tr th:only-of-type {\n",
       "        vertical-align: middle;\n",
       "    }\n",
       "\n",
       "    .dataframe tbody tr th {\n",
       "        vertical-align: top;\n",
       "    }\n",
       "\n",
       "    .dataframe thead th {\n",
       "        text-align: right;\n",
       "    }\n",
       "</style>\n",
       "<table border=\"1\" class=\"dataframe\">\n",
       "  <thead>\n",
       "    <tr style=\"text-align: right;\">\n",
       "      <th></th>\n",
       "      <th>Unnamed: 0</th>\n",
       "      <th>Recipe_title_x</th>\n",
       "      <th>ingredient_name</th>\n",
       "    </tr>\n",
       "  </thead>\n",
       "  <tbody>\n",
       "    <tr>\n",
       "      <th>0</th>\n",
       "      <td>0</td>\n",
       "      <td>Creamy Chicken Curry</td>\n",
       "      <td>chicken breast, garlic, soy yogurt, turmeric, ...</td>\n",
       "    </tr>\n",
       "    <tr>\n",
       "      <th>1</th>\n",
       "      <td>1</td>\n",
       "      <td>Leftover  Turkey Biryani With Red Onion and C...</td>\n",
       "      <td>sunflower oil, carrot, red onion, basmati rice...</td>\n",
       "    </tr>\n",
       "    <tr>\n",
       "      <th>2</th>\n",
       "      <td>2</td>\n",
       "      <td>Seva  Bean  Vegetable Stew</td>\n",
       "      <td>ghee, kidney bean, onion, garlic, carrot, pota...</td>\n",
       "    </tr>\n",
       "    <tr>\n",
       "      <th>3</th>\n",
       "      <td>3</td>\n",
       "      <td>10 Second Mango Yogurt Smoothie</td>\n",
       "      <td>mango nectar, yogurt</td>\n",
       "    </tr>\n",
       "    <tr>\n",
       "      <th>4</th>\n",
       "      <td>4</td>\n",
       "      <td>17 Island Spicy Tomato Saffron Soup</td>\n",
       "      <td>oil, ginger, onion, carrot, garlic, lemongrass...</td>\n",
       "    </tr>\n",
       "  </tbody>\n",
       "</table>\n",
       "</div>"
      ],
      "text/plain": [
       "   Unnamed: 0                                     Recipe_title_x  \\\n",
       "0           0                               Creamy Chicken Curry   \n",
       "1           1   Leftover  Turkey Biryani With Red Onion and C...   \n",
       "2           2                         Seva  Bean  Vegetable Stew   \n",
       "3           3                    10 Second Mango Yogurt Smoothie   \n",
       "4           4                17 Island Spicy Tomato Saffron Soup   \n",
       "\n",
       "                                     ingredient_name  \n",
       "0  chicken breast, garlic, soy yogurt, turmeric, ...  \n",
       "1  sunflower oil, carrot, red onion, basmati rice...  \n",
       "2  ghee, kidney bean, onion, garlic, carrot, pota...  \n",
       "3                               mango nectar, yogurt  \n",
       "4  oil, ginger, onion, carrot, garlic, lemongrass...  "
      ]
     },
     "execution_count": 4,
     "metadata": {},
     "output_type": "execute_result"
    }
   ],
   "source": [
    "df.head()"
   ]
  },
  {
   "cell_type": "code",
   "execution_count": 6,
   "id": "ddfde6aa",
   "metadata": {},
   "outputs": [],
   "source": [
    "#Utitlity functions\n",
    "def remove_comma(text):\n",
    "     return text.replace(',','')\n",
    "def remove_quote(text):\n",
    "     return text.replace(\"'\",'')\n",
    "def remove_bracket1(text):\n",
    "     return text.replace(\"]\",'')\n",
    "def remove_bracket2(text):\n",
    "     return text.replace(\"[\",'')\n",
    "def remove_doublequote(text):\n",
    "     return text.replace('\"','')\n",
    "\n",
    "df['cleaned'] = df['ingredient_name'].apply(remove_comma)\n",
    "df['cleaned'] = df.cleaned.apply(remove_quote)\n",
    "df['cleaned'] = df.cleaned.apply(remove_bracket1)\n",
    "df['cleaned'] = df.cleaned.apply(remove_bracket2)\n",
    "df['cleaned'] = df.cleaned.apply(remove_doublequote)"
   ]
  },
  {
   "cell_type": "code",
   "execution_count": 7,
   "id": "4aeabaa2",
   "metadata": {},
   "outputs": [],
   "source": [
    "#splitting the description into words\n",
    "corpus = []\n",
    "for words in df['cleaned']:\n",
    "    corpus.append(words.split())"
   ]
  },
  {
   "cell_type": "code",
   "execution_count": 9,
   "id": "446d5814",
   "metadata": {},
   "outputs": [],
   "source": [
    "#tag each document \n",
    "documents = [TaggedDocument(doc, [str(df['Recipe_title_x'][i])]) for i, doc in enumerate(corpus)]"
   ]
  },
  {
   "cell_type": "code",
   "execution_count": 10,
   "id": "d8969c9a",
   "metadata": {},
   "outputs": [
    {
     "name": "stdout",
     "output_type": "stream",
     "text": [
      "iteration 0\n",
      "iteration 1\n",
      "iteration 2\n",
      "iteration 3\n",
      "iteration 4\n",
      "iteration 5\n",
      "iteration 6\n",
      "iteration 7\n",
      "iteration 8\n",
      "iteration 9\n"
     ]
    }
   ],
   "source": [
    "max_epochs = 10\n",
    "vec_size = 100\n",
    "alpha = 0.025\n",
    "\n",
    "model3 = Doc2Vec(vector_size=vec_size,\n",
    "                alpha=alpha, \n",
    "                min_alpha=0.00025,\n",
    "                min_count=1,\n",
    "                dm =1,\n",
    "                epochs=max_epochs)\n",
    "  \n",
    "model3.build_vocab(documents)\n",
    "\n",
    "for epoch in range(max_epochs):\n",
    "    print('iteration {0}'.format(epoch))\n",
    "    model3.train(documents,\n",
    "                total_examples=model3.corpus_count,\n",
    "                epochs=model3.epochs)\n",
    "    # decrease the learning rate\n",
    "    model3.alpha -= 0.0002\n",
    "    # fix the learning rate, no decay\n",
    "    model3.min_alpha = model3.alpha"
   ]
  },
  {
   "cell_type": "code",
   "execution_count": 12,
   "id": "a6846132",
   "metadata": {},
   "outputs": [
    {
     "data": {
      "text/plain": [
       "[('chili', 0.34201884269714355),\n",
       " ('vegetable', 0.3401672840118408),\n",
       " ('soda', 0.3359622061252594),\n",
       " ('tomato', 0.3299388587474823),\n",
       " ('seed', 0.32142019271850586),\n",
       " ('powder', 0.3110930621623993),\n",
       " ('white', 0.3092752993106842),\n",
       " ('ghee', 0.2976037263870239),\n",
       " ('french', 0.29299691319465637),\n",
       " ('cashew', 0.29211923480033875)]"
      ]
     },
     "execution_count": 12,
     "metadata": {},
     "output_type": "execute_result"
    }
   ],
   "source": [
    "model3.wv.most_similar('potato',topn=10)\n",
    "# model3.wv.most_similar('potatoes',topn=10)"
   ]
  },
  {
   "cell_type": "code",
   "execution_count": 13,
   "id": "c3815709",
   "metadata": {},
   "outputs": [],
   "source": [
    "model3.save(\"ingredients_word2vec.model\")"
   ]
  },
  {
   "cell_type": "code",
   "execution_count": null,
   "id": "6e102137",
   "metadata": {},
   "outputs": [],
   "source": []
  }
 ],
 "metadata": {
  "kernelspec": {
   "display_name": "Python 3 (ipykernel)",
   "language": "python",
   "name": "python3"
  },
  "language_info": {
   "codemirror_mode": {
    "name": "ipython",
    "version": 3
   },
   "file_extension": ".py",
   "mimetype": "text/x-python",
   "name": "python",
   "nbconvert_exporter": "python",
   "pygments_lexer": "ipython3",
   "version": "3.9.13"
  }
 },
 "nbformat": 4,
 "nbformat_minor": 5
}
