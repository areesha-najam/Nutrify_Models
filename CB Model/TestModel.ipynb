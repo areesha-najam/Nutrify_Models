{
 "cells": [
  {
   "cell_type": "code",
   "execution_count": 1,
   "id": "a990e436",
   "metadata": {},
   "outputs": [
    {
     "name": "stderr",
     "output_type": "stream",
     "text": [
      "[nltk_data] Downloading package punkt to\n",
      "[nltk_data]     C:\\Users\\HOME\\AppData\\Roaming\\nltk_data...\n",
      "[nltk_data]   Package punkt is already up-to-date!\n"
     ]
    }
   ],
   "source": [
    "# Importing necessary libraries here\n",
    "import sys\n",
    "import pandas as pd\n",
    "import numpy as np\n",
    "import nltk\n",
    "nltk.download('punkt')\n",
    "from nltk.corpus import stopwords\n",
    "from gensim.models import Word2Vec\n",
    "from gensim.models.phrases import Phrases, Phraser\n",
    "from gensim.models import KeyedVectors\n",
    "from gensim.models.word2vec import Word2Vec\n",
    "from gensim.models.doc2vec import Doc2Vec, TaggedDocument\n",
    "from nltk.tokenize import word_tokenize\n",
    "\n",
    "import warnings \n",
    "warnings.filterwarnings('ignore') # no warnings"
   ]
  },
  {
   "cell_type": "code",
   "execution_count": 2,
   "id": "677efc31",
   "metadata": {},
   "outputs": [],
   "source": [
    "# Reading the data\n",
    "df = pd.read_csv(\"comma_separated_ing.csv\")"
   ]
  },
  {
   "cell_type": "code",
   "execution_count": 4,
   "id": "93765edf",
   "metadata": {},
   "outputs": [],
   "source": [
    "#Utitlity functions\n",
    "def remove_comma(text):\n",
    "     return text.replace(',','')\n",
    "def remove_quote(text):\n",
    "     return text.replace(\"'\",'')\n",
    "def remove_bracket1(text):\n",
    "     return text.replace(\"]\",'')\n",
    "def remove_bracket2(text):\n",
    "     return text.replace(\"[\",'')\n",
    "def remove_doublequote(text):\n",
    "     return text.replace('\"','')\n",
    "\n",
    "df['cleaned'] = df['ingredient_name'].apply(remove_comma)\n",
    "df['cleaned'] = df.cleaned.apply(remove_quote)\n",
    "df['cleaned'] = df.cleaned.apply(remove_bracket1)\n",
    "df['cleaned'] = df.cleaned.apply(remove_bracket2)\n",
    "df['cleaned'] = df.cleaned.apply(remove_doublequote)"
   ]
  },
  {
   "cell_type": "code",
   "execution_count": 5,
   "id": "6b98d1e2",
   "metadata": {},
   "outputs": [],
   "source": [
    "model3 = Doc2Vec.load(\"ingredients_word2vec.model\")"
   ]
  },
  {
   "cell_type": "code",
   "execution_count": 13,
   "id": "19624d1f",
   "metadata": {},
   "outputs": [
    {
     "data": {
      "text/plain": [
       "0       chicken breast garlic soy yogurt turmeric onio...\n",
       "1       sunflower oil carrot red onion basmati rice ch...\n",
       "2       ghee kidney bean onion garlic carrot potato ga...\n",
       "3                                     mango nectar yogurt\n",
       "4       oil ginger onion carrot garlic lemongrass pine...\n",
       "                              ...                        \n",
       "4584               elbow macaroni cheese milk salt pepper\n",
       "4585    grain rice oil peanut mustard cayenne powder t...\n",
       "4586    water clove cinnamon cardamom pod sugar milk b...\n",
       "4587    channa dal urad dal yellow moong dal toor dal ...\n",
       "4588         tomato salty cracker mayonnaise black pepper\n",
       "Name: cleaned, Length: 4589, dtype: object"
      ]
     },
     "execution_count": 13,
     "metadata": {},
     "output_type": "execute_result"
    }
   ],
   "source": [
    "df[\"cleaned\"]"
   ]
  },
  {
   "cell_type": "code",
   "execution_count": 14,
   "id": "992c65d4",
   "metadata": {},
   "outputs": [
    {
     "data": {
      "text/plain": [
       "'mango nectar yogurt'"
      ]
     },
     "execution_count": 14,
     "metadata": {},
     "output_type": "execute_result"
    }
   ],
   "source": [
    "# Input (an ing list of a recipe)\n",
    "test_data = df['cleaned'][3]\n",
    "test_data"
   ]
  },
  {
   "cell_type": "code",
   "execution_count": 15,
   "id": "508b941f",
   "metadata": {},
   "outputs": [],
   "source": [
    "test_data_tokenize = word_tokenize(test_data)\n",
    "v1 = model3.infer_vector(test_data_tokenize)\n",
    "similar_recepies=model3.dv.most_similar([v1])"
   ]
  },
  {
   "cell_type": "code",
   "execution_count": 16,
   "id": "d46ba065",
   "metadata": {},
   "outputs": [
    {
     "data": {
      "text/plain": [
       "[('10 Second Mango Yogurt Smoothie', 0.7927114963531494),\n",
       " ('Pabla Indian Cuisine Mango Lassi', 0.7315824627876282),\n",
       " ('Chhaach', 0.7260910868644714),\n",
       " ('Sweet Lassi Yogurt Drink', 0.7097092866897583),\n",
       " ('Bhatura  Bhaturey  Fried Bread', 0.7054768800735474),\n",
       " ('Pomegranate Raita', 0.6734451055526733),\n",
       " ('Gujarati Shrikhand', 0.6664274334907532),\n",
       " ('Fresh And Good For Health Tomato Bell Pepper And Corn Salad',\n",
       "  0.6543483734130859),\n",
       " ('Mint Lassi', 0.646975040435791),\n",
       " ('Bombay Naan Oamc', 0.629840075969696)]"
      ]
     },
     "execution_count": 16,
     "metadata": {},
     "output_type": "execute_result"
    }
   ],
   "source": [
    "similar_recepies"
   ]
  },
  {
   "cell_type": "code",
   "execution_count": null,
   "id": "f327ecf8",
   "metadata": {},
   "outputs": [],
   "source": []
  }
 ],
 "metadata": {
  "kernelspec": {
   "display_name": "Python 3 (ipykernel)",
   "language": "python",
   "name": "python3"
  },
  "language_info": {
   "codemirror_mode": {
    "name": "ipython",
    "version": 3
   },
   "file_extension": ".py",
   "mimetype": "text/x-python",
   "name": "python",
   "nbconvert_exporter": "python",
   "pygments_lexer": "ipython3",
   "version": "3.9.13"
  }
 },
 "nbformat": 4,
 "nbformat_minor": 5
}
